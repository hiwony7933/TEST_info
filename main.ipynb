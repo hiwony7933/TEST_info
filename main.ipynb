{
 "metadata": {
  "language_info": {
   "codemirror_mode": {
    "name": "ipython",
    "version": 3
   },
   "file_extension": ".py",
   "mimetype": "text/x-python",
   "name": "python",
   "nbconvert_exporter": "python",
   "pygments_lexer": "ipython3",
   "version": "3.7.4-final"
  },
  "orig_nbformat": 2,
  "kernelspec": {
   "name": "python37464bitanaconda3condae788c5fa592f4db3927eca9f2fe371f6",
   "display_name": "Python 3.7.4 64-bit ('anaconda3': conda)",
   "language": "python"
  }
 },
 "nbformat": 4,
 "nbformat_minor": 2,
 "cells": [
  {
   "cell_type": "code",
   "execution_count": 22,
   "metadata": {},
   "outputs": [],
   "source": [
    "from selenium import webdriver\n",
    "import time\n",
    "from bs4 import BeautifulSoup as bs\n",
    "\n",
    "chrome = webdriver.Chrome('./chromedriver')"
   ]
  },
  {
   "cell_type": "code",
   "execution_count": 23,
   "metadata": {
    "tags": []
   },
   "outputs": [],
   "source": [
    "chrome.get(\"https://www.dataq.or.kr/www/board/notice/list.do\")\n",
    "\n",
    "html = chrome.page_source\n",
    "soup = bs(html)"
   ]
  },
  {
   "cell_type": "code",
   "execution_count": 173,
   "metadata": {},
   "outputs": [
    {
     "output_type": "stream",
     "name": "stdout",
     "text": [
      "['제1회 빅데이터분석기사 자격검정 취소 안내', '2021년 데이터 민간자격검정 시행 공고 ', '2021년 빅데이터분석기사 자격검정 시행 공고', '제19회 데이터분석 전문가(ADP) 실기시험 응시환경 변경 안내', '코로나19 확산에 따른 수험생 안내 사항', '제19회 데이터분석 전문가(ADP) 실기시험 응시안내', '빅데이터분석기사 환불 안내 (12월 2일까지 100% 환불)', '접수정보 통합으로 인한 서비스 중단 안내', '제50회 DAP, 제45회 DAsP 수험표 발급 및 유의사항 안내', '방역수칙 단계별 데이터 자격검정 시행방안']\n['742', '741', '740', '739', '738', '737', '736', '735', '734', '733']\n['2020.12.15', '2020.12.08', '2020.12.02', '2020.12.11', '2020.12.08', '2020.12.04', '2020.12.02', '2020.11.30', '2020.11.27', '2020.11.27']\n"
     ]
    }
   ],
   "source": [
    "r = soup.find_all('tbody')\n",
    "\n",
    "# 제목, 넘버, 날짜를 저장할 list를 생성\n",
    "loc = []\n",
    "temp = []\n",
    "hum = []\n",
    "\n",
    "# 가져온 테이블 중에서 첫번째 테이블로부터 줄(tr) 단위로 읽기\n",
    "for tr in r[0].find_all('tr'):\n",
    "    tds = tr.find_all('td') \n",
    "    for td in tds:\n",
    "        if td.find('a'): \n",
    "            text = td.find('a').get_text()\n",
    "            replace_text = text.replace('\\n',\"\")\n",
    "            replace_text = replace_text.replace('\\t',\"\")\n",
    "            loc.append(replace_text) #제목 \n",
    "            temp.append(tds[0].text) #넘버\n",
    "            hum.append(tds[3].text) #날짜\n",
    "\n",
    "print(loc) \n",
    "print(temp)\n",
    "print(hum)"
   ]
  },
  {
   "cell_type": "code",
   "execution_count": null,
   "metadata": {},
   "outputs": [],
   "source": []
  },
  {
   "cell_type": "code",
   "execution_count": null,
   "metadata": {},
   "outputs": [],
   "source": []
  },
  {
   "cell_type": "code",
   "execution_count": null,
   "metadata": {},
   "outputs": [],
   "source": []
  },
  {
   "cell_type": "code",
   "execution_count": null,
   "metadata": {},
   "outputs": [],
   "source": []
  },
  {
   "cell_type": "code",
   "execution_count": null,
   "metadata": {},
   "outputs": [],
   "source": []
  }
 ]
}